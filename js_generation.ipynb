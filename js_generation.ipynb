{
 "cells": [
  {
   "cell_type": "markdown",
   "metadata": {},
   "source": [
    "# load the txt file and parse it"
   ]
  },
  {
   "cell_type": "code",
   "execution_count": 54,
   "metadata": {},
   "outputs": [],
   "source": [
    "import math\n",
    "\n",
    "path = \"image/img_elias/test4/P6/\"\n",
    "\n",
    "xVal = []\n",
    "yVal = []\n",
    "f = open(path + \"data.txt\", \"r\")\n",
    "iterator = 0\n",
    "for line in f:\n",
    "    if iterator == 0:\n",
    "        iterator += 1\n",
    "        continue\n",
    "    coord = line.split(' ')\n",
    "    x = coord[0]\n",
    "    e = x.find('e')\n",
    "    if e == -1 :\n",
    "        x_decimal = float(x)\n",
    "        x_power = 0\n",
    "    else :\n",
    "        x_decimal = float(x[:e])\n",
    "        x_power = 6 - int(x[e + 4])\n",
    "    x_number = x_decimal * math.pow(10, x_power)\n",
    "    y = coord[2]\n",
    "    e = y.find('e')\n",
    "    if e == -1 :\n",
    "        y_decimal = float(y)\n",
    "        y_power = 0\n",
    "    else :\n",
    "        y_decimal = float(y[:e])\n",
    "        y_power = 9 - int(y[e + 2:e + 5])\n",
    "    y_number = y_decimal * math.pow(10, y_power)\n",
    "    iterator += 1\n",
    "    xVal.append(round(x_number, 2))\n",
    "    yVal.append(round(y_number, 2))\n",
    "    "
   ]
  },
  {
   "cell_type": "markdown",
   "metadata": {},
   "source": [
    "# Write the JS code with xVal and yVal coordinates"
   ]
  },
  {
   "cell_type": "code",
   "execution_count": 55,
   "metadata": {},
   "outputs": [],
   "source": [
    "txt = 'var data = [];\\n'\n",
    "txt += 'function Points(x, y) {\\n'\n",
    "txt += '\\tthis.x = x;\\n'\n",
    "txt += '\\tthis.y = y;\\n'\n",
    "txt += '}\\n'\n",
    "txt += '\\n'\n",
    "\n",
    "for i in range(len(xVal)):\n",
    "    txt += 'data[' + str(i) + '] = new Points(' + str(xVal[i]) + ', ' + str(yVal[i]) + ');\\n'\n",
    "\n",
    "f= open(path + \"script.js\",\"w+\")\n",
    "f.write(txt)\n",
    "f.close()"
   ]
  },
  {
   "cell_type": "code",
   "execution_count": null,
   "metadata": {},
   "outputs": [],
   "source": []
  }
 ],
 "metadata": {
  "kernelspec": {
   "display_name": "Python 3",
   "language": "python",
   "name": "python3"
  },
  "language_info": {
   "codemirror_mode": {
    "name": "ipython",
    "version": 3
   },
   "file_extension": ".py",
   "mimetype": "text/x-python",
   "name": "python",
   "nbconvert_exporter": "python",
   "pygments_lexer": "ipython3",
   "version": "3.8.3"
  }
 },
 "nbformat": 4,
 "nbformat_minor": 4
}
